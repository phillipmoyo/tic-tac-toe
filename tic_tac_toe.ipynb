{
  "nbformat": 4,
  "nbformat_minor": 0,
  "metadata": {
    "colab": {
      "name": "tic_tac_toe.ipynb",
      "private_outputs": true,
      "provenance": [],
      "collapsed_sections": [],
      "authorship_tag": "ABX9TyPhmmNJk5OKnM23fxoQEdS1",
      "include_colab_link": true
    },
    "kernelspec": {
      "name": "python3",
      "display_name": "Python 3"
    },
    "language_info": {
      "name": "python"
    }
  },
  "cells": [
    {
      "cell_type": "markdown",
      "metadata": {
        "id": "view-in-github",
        "colab_type": "text"
      },
      "source": [
        "<a href=\"https://colab.research.google.com/github/phillipmoyo/tic-tac-toe/blob/main/tic_tac_toe.ipynb\" target=\"_parent\"><img src=\"https://colab.research.google.com/assets/colab-badge.svg\" alt=\"Open In Colab\"/></a>"
      ]
    },
    {
      "cell_type": "code",
      "execution_count": null,
      "metadata": {
        "id": "mdvIK_69mlx2"
      },
      "outputs": [],
      "source": [
        "!pip install pygame\n",
        "import pygame as pg\n",
        "import sys\n",
        "import time\n",
        "from pygame.locals import *"
      ]
    },
    {
      "cell_type": "code",
      "source": [
        "#global vaiables\n",
        "board = {1: '', 2: '_', 3: '_',\n",
        "         4: '_', 5: '_', 6: '_',\n",
        "         7: '_', 8: '_', 9: '_'}\n",
        "X = 'X'\n",
        "O = 'O'\n",
        "XO = 'XO'\n",
        "score = {X:0, O:0, XO:0}"
      ],
      "metadata": {
        "id": "WLUFPBXRnk1u"
      },
      "execution_count": null,
      "outputs": []
    },
    {
      "cell_type": "code",
      "source": [
        "def printBoard():\n",
        "  print()\n",
        "  for i in range(1,len(board)+1):\n",
        "    if(i!=1 and i%3 == 0):\n",
        "      print(board[i])\n",
        "      if i != 9:\n",
        "        print('_____')\n",
        "    else:\n",
        "      print(board[i], end='')\n",
        "      print('|', end='')\n",
        "  print()"
      ],
      "metadata": {
        "id": "dx3-BdxBrZ4X"
      },
      "execution_count": null,
      "outputs": []
    },
    {
      "cell_type": "code",
      "source": [
        "def state():\n",
        "  # diagonals\n",
        "  \n",
        "  if board[1] == board[5] == board[9] and board[1] != '_':\n",
        "    return board[1]\n",
        "  elif board[3] == board[5] == board[7] and board[3] != '_':\n",
        "      return board[3]\n",
        "\n",
        "  # horizontals\n",
        "  else:\n",
        "    for i in range(0,9,3):\n",
        "      if board[1 + i] == board[2 + i] == board[3 + i] and board[1 + i] != '_':\n",
        "        return board[1 + i]\n",
        "\n",
        "    # vertical\n",
        "    for i in range(0,3):\n",
        "      if board[1 + i] == board[4 + i] == board[7 + i] and board[1 + i] != '_':\n",
        "        return board[1 + i]\n",
        "\n",
        "  if '_' not in board.values():\n",
        "    return XO\n",
        "\n",
        "  return None"
      ],
      "metadata": {
        "id": "dUvfohHdahix"
      },
      "execution_count": null,
      "outputs": []
    },
    {
      "cell_type": "code",
      "source": [
        "board = {1: '_', 2: '_', 3: '_',\n",
        "         4: '_', 5: '_', 6: '_',\n",
        "         7: '_', 8: '_', 9: '_'}\n",
        "available_positions = {'1','2','3','4','5','6','7','8','9'}\n",
        "quit = 'q'\n",
        "i = 0\n",
        "while 1:\n",
        "  if i%2 == 0:\n",
        "    play = X\n",
        "  else:\n",
        "    play = O\n",
        "\n",
        "  print(f\"Player {play}'s turn plays \", end='')\n",
        "  pos = input()\n",
        "  if pos == quit:\n",
        "    break\n",
        "\n",
        "  if pos in available_positions:\n",
        "    i+=1\n",
        "    board[int(pos)] = play\n",
        "    available_positions.discard(pos)\n",
        "    printBoard()\n",
        "    status = state()\n",
        "    if status is not None:\n",
        "      board = {1: '_', 2: '_', 3: '_',\n",
        "        4: '_', 5: '_', 6: '_',\n",
        "        7: '_', 8: '_', 9: '_'}\n",
        "      score[status] += 1\n",
        "      print(\"************NEW GAME**************\")\n",
        "  else:\n",
        "    print(f\"Error, Player {play} plays again (NB: choose numbers 1-9)\")\n",
        "\n",
        "print('\\n')\n",
        "print(f\"{X}'s score is {score.get(X)}\")\n",
        "print(f\"{O}'s score is {score.get(O)}\")\n",
        "print(f\"and {score.get('XO')} draws\")\n",
        "  "
      ],
      "metadata": {
        "id": "9LNqa-0tuihG"
      },
      "execution_count": null,
      "outputs": []
    },
    {
      "cell_type": "code",
      "source": [
        ""
      ],
      "metadata": {
        "id": "_fCmv_ySbn9Y"
      },
      "execution_count": null,
      "outputs": []
    }
  ]
}